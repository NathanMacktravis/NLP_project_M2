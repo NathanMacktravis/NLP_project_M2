{
 "cells": [
  {
   "cell_type": "code",
   "execution_count": 11,
   "metadata": {},
   "outputs": [
    {
     "ename": "ModuleNotFoundError",
     "evalue": "No module named 'pandas'",
     "output_type": "error",
     "traceback": [
      "\u001b[0;31m---------------------------------------------------------------------------\u001b[0m",
      "\u001b[0;31mModuleNotFoundError\u001b[0m                       Traceback (most recent call last)",
      "\u001b[1;32m/Users/nathanwandji/Documents/GitHub/NLP_project_M2/ytbe_preprocessing.ipynb Cell 1\u001b[0m line \u001b[0;36m3\n\u001b[1;32m      <a href='vscode-notebook-cell:/Users/nathanwandji/Documents/GitHub/NLP_project_M2/ytbe_preprocessing.ipynb#W2sZmlsZQ%3D%3D?line=0'>1</a>\u001b[0m \u001b[39mimport\u001b[39;00m \u001b[39mjson\u001b[39;00m \n\u001b[1;32m      <a href='vscode-notebook-cell:/Users/nathanwandji/Documents/GitHub/NLP_project_M2/ytbe_preprocessing.ipynb#W2sZmlsZQ%3D%3D?line=1'>2</a>\u001b[0m \u001b[39mimport\u001b[39;00m \u001b[39mcsv\u001b[39;00m\n\u001b[0;32m----> <a href='vscode-notebook-cell:/Users/nathanwandji/Documents/GitHub/NLP_project_M2/ytbe_preprocessing.ipynb#W2sZmlsZQ%3D%3D?line=2'>3</a>\u001b[0m \u001b[39mimport\u001b[39;00m \u001b[39mpandas\u001b[39;00m \u001b[39mas\u001b[39;00m \u001b[39mpd\u001b[39;00m \n",
      "\u001b[0;31mModuleNotFoundError\u001b[0m: No module named 'pandas'"
     ]
    }
   ],
   "source": [
    "import json \n",
    "import csv\n",
    "import pandas as pd "
   ]
  },
  {
   "cell_type": "code",
   "execution_count": 12,
   "metadata": {},
   "outputs": [
    {
     "ename": "NameError",
     "evalue": "name 'pd' is not defined",
     "output_type": "error",
     "traceback": [
      "\u001b[0;31m---------------------------------------------------------------------------\u001b[0m",
      "\u001b[0;31mNameError\u001b[0m                                 Traceback (most recent call last)",
      "\u001b[1;32m/Users/nathanwandji/Documents/GitHub/NLP_project_M2/ytbe_preprocessing.ipynb Cell 2\u001b[0m line \u001b[0;36m4\n\u001b[1;32m      <a href='vscode-notebook-cell:/Users/nathanwandji/Documents/GitHub/NLP_project_M2/ytbe_preprocessing.ipynb#W0sZmlsZQ%3D%3D?line=0'>1</a>\u001b[0m \u001b[39m# Collect json dataset in a dataframe\u001b[39;00m\n\u001b[1;32m      <a href='vscode-notebook-cell:/Users/nathanwandji/Documents/GitHub/NLP_project_M2/ytbe_preprocessing.ipynb#W0sZmlsZQ%3D%3D?line=1'>2</a>\u001b[0m path_json \u001b[39m=\u001b[39m \u001b[39m'\u001b[39m\u001b[39myt_dataset_transcript.json\u001b[39m\u001b[39m'\u001b[39m\n\u001b[0;32m----> <a href='vscode-notebook-cell:/Users/nathanwandji/Documents/GitHub/NLP_project_M2/ytbe_preprocessing.ipynb#W0sZmlsZQ%3D%3D?line=3'>4</a>\u001b[0m df \u001b[39m=\u001b[39m pd\u001b[39m.\u001b[39mread_json(path_json)\n",
      "\u001b[0;31mNameError\u001b[0m: name 'pd' is not defined"
     ]
    }
   ],
   "source": [
    "# Collect json dataset in a dataframe\n",
    "path_json = 'yt_dataset_transcript.json'\n",
    "\n",
    "df = pd.read_json(path_json)\n"
   ]
  },
  {
   "cell_type": "code",
   "execution_count": 5,
   "metadata": {},
   "outputs": [
    {
     "ename": "JSONDecodeError",
     "evalue": "Expecting property name enclosed in double quotes: line 2 column 1 (char 2)",
     "output_type": "error",
     "traceback": [
      "\u001b[0;31m---------------------------------------------------------------------------\u001b[0m",
      "\u001b[0;31mJSONDecodeError\u001b[0m                           Traceback (most recent call last)",
      "\u001b[1;32m/Users/nathanwandji/Documents/GitHub/NLP_project_M2/ytbe_preprocessing.ipynb Cell 3\u001b[0m line \u001b[0;36m3\n\u001b[1;32m      <a href='vscode-notebook-cell:/Users/nathanwandji/Documents/GitHub/NLP_project_M2/ytbe_preprocessing.ipynb#W1sZmlsZQ%3D%3D?line=0'>1</a>\u001b[0m \u001b[39m# Executing the collect function \u001b[39;00m\n\u001b[1;32m      <a href='vscode-notebook-cell:/Users/nathanwandji/Documents/GitHub/NLP_project_M2/ytbe_preprocessing.ipynb#W1sZmlsZQ%3D%3D?line=1'>2</a>\u001b[0m path_json \u001b[39m=\u001b[39m \u001b[39m'\u001b[39m\u001b[39myt_dataset.json\u001b[39m\u001b[39m'\u001b[39m\n\u001b[0;32m----> <a href='vscode-notebook-cell:/Users/nathanwandji/Documents/GitHub/NLP_project_M2/ytbe_preprocessing.ipynb#W1sZmlsZQ%3D%3D?line=2'>3</a>\u001b[0m collect_data(path_json)\n",
      "\u001b[1;32m/Users/nathanwandji/Documents/GitHub/NLP_project_M2/ytbe_preprocessing.ipynb Cell 3\u001b[0m line \u001b[0;36m5\n\u001b[1;32m      <a href='vscode-notebook-cell:/Users/nathanwandji/Documents/GitHub/NLP_project_M2/ytbe_preprocessing.ipynb#W1sZmlsZQ%3D%3D?line=0'>1</a>\u001b[0m \u001b[39mdef\u001b[39;00m \u001b[39mcollect_data\u001b[39m(path_json):\n\u001b[1;32m      <a href='vscode-notebook-cell:/Users/nathanwandji/Documents/GitHub/NLP_project_M2/ytbe_preprocessing.ipynb#W1sZmlsZQ%3D%3D?line=1'>2</a>\u001b[0m     \u001b[39m# Load JSON file line by line\u001b[39;00m\n\u001b[1;32m      <a href='vscode-notebook-cell:/Users/nathanwandji/Documents/GitHub/NLP_project_M2/ytbe_preprocessing.ipynb#W1sZmlsZQ%3D%3D?line=2'>3</a>\u001b[0m     \u001b[39mwith\u001b[39;00m \u001b[39mopen\u001b[39m(path_json) \u001b[39mas\u001b[39;00m json_file:\n\u001b[1;32m      <a href='vscode-notebook-cell:/Users/nathanwandji/Documents/GitHub/NLP_project_M2/ytbe_preprocessing.ipynb#W1sZmlsZQ%3D%3D?line=3'>4</a>\u001b[0m         \u001b[39m# Parse each line as JSON\u001b[39;00m\n\u001b[0;32m----> <a href='vscode-notebook-cell:/Users/nathanwandji/Documents/GitHub/NLP_project_M2/ytbe_preprocessing.ipynb#W1sZmlsZQ%3D%3D?line=4'>5</a>\u001b[0m         data \u001b[39m=\u001b[39m [json\u001b[39m.\u001b[39mloads(line) \u001b[39mfor\u001b[39;00m line \u001b[39min\u001b[39;00m json_file]\n\u001b[1;32m      <a href='vscode-notebook-cell:/Users/nathanwandji/Documents/GitHub/NLP_project_M2/ytbe_preprocessing.ipynb#W1sZmlsZQ%3D%3D?line=6'>7</a>\u001b[0m     \u001b[39m# Open a CSV file in write mode\u001b[39;00m\n\u001b[1;32m      <a href='vscode-notebook-cell:/Users/nathanwandji/Documents/GitHub/NLP_project_M2/ytbe_preprocessing.ipynb#W1sZmlsZQ%3D%3D?line=7'>8</a>\u001b[0m     \u001b[39mwith\u001b[39;00m \u001b[39mopen\u001b[39m(\u001b[39m'\u001b[39m\u001b[39mytbe_dataset.csv\u001b[39m\u001b[39m'\u001b[39m) \u001b[39mas\u001b[39;00m csv_file:\n\u001b[1;32m      <a href='vscode-notebook-cell:/Users/nathanwandji/Documents/GitHub/NLP_project_M2/ytbe_preprocessing.ipynb#W1sZmlsZQ%3D%3D?line=8'>9</a>\u001b[0m         \u001b[39m# Create a CSV writer object\u001b[39;00m\n",
      "\u001b[1;32m/Users/nathanwandji/Documents/GitHub/NLP_project_M2/ytbe_preprocessing.ipynb Cell 3\u001b[0m line \u001b[0;36m5\n\u001b[1;32m      <a href='vscode-notebook-cell:/Users/nathanwandji/Documents/GitHub/NLP_project_M2/ytbe_preprocessing.ipynb#W1sZmlsZQ%3D%3D?line=0'>1</a>\u001b[0m \u001b[39mdef\u001b[39;00m \u001b[39mcollect_data\u001b[39m(path_json):\n\u001b[1;32m      <a href='vscode-notebook-cell:/Users/nathanwandji/Documents/GitHub/NLP_project_M2/ytbe_preprocessing.ipynb#W1sZmlsZQ%3D%3D?line=1'>2</a>\u001b[0m     \u001b[39m# Load JSON file line by line\u001b[39;00m\n\u001b[1;32m      <a href='vscode-notebook-cell:/Users/nathanwandji/Documents/GitHub/NLP_project_M2/ytbe_preprocessing.ipynb#W1sZmlsZQ%3D%3D?line=2'>3</a>\u001b[0m     \u001b[39mwith\u001b[39;00m \u001b[39mopen\u001b[39m(path_json) \u001b[39mas\u001b[39;00m json_file:\n\u001b[1;32m      <a href='vscode-notebook-cell:/Users/nathanwandji/Documents/GitHub/NLP_project_M2/ytbe_preprocessing.ipynb#W1sZmlsZQ%3D%3D?line=3'>4</a>\u001b[0m         \u001b[39m# Parse each line as JSON\u001b[39;00m\n\u001b[0;32m----> <a href='vscode-notebook-cell:/Users/nathanwandji/Documents/GitHub/NLP_project_M2/ytbe_preprocessing.ipynb#W1sZmlsZQ%3D%3D?line=4'>5</a>\u001b[0m         data \u001b[39m=\u001b[39m [json\u001b[39m.\u001b[39;49mloads(line) \u001b[39mfor\u001b[39;00m line \u001b[39min\u001b[39;00m json_file]\n\u001b[1;32m      <a href='vscode-notebook-cell:/Users/nathanwandji/Documents/GitHub/NLP_project_M2/ytbe_preprocessing.ipynb#W1sZmlsZQ%3D%3D?line=6'>7</a>\u001b[0m     \u001b[39m# Open a CSV file in write mode\u001b[39;00m\n\u001b[1;32m      <a href='vscode-notebook-cell:/Users/nathanwandji/Documents/GitHub/NLP_project_M2/ytbe_preprocessing.ipynb#W1sZmlsZQ%3D%3D?line=7'>8</a>\u001b[0m     \u001b[39mwith\u001b[39;00m \u001b[39mopen\u001b[39m(\u001b[39m'\u001b[39m\u001b[39mytbe_dataset.csv\u001b[39m\u001b[39m'\u001b[39m) \u001b[39mas\u001b[39;00m csv_file:\n\u001b[1;32m      <a href='vscode-notebook-cell:/Users/nathanwandji/Documents/GitHub/NLP_project_M2/ytbe_preprocessing.ipynb#W1sZmlsZQ%3D%3D?line=8'>9</a>\u001b[0m         \u001b[39m# Create a CSV writer object\u001b[39;00m\n",
      "File \u001b[0;32m/Library/Frameworks/Python.framework/Versions/3.10/lib/python3.10/json/__init__.py:346\u001b[0m, in \u001b[0;36mloads\u001b[0;34m(s, cls, object_hook, parse_float, parse_int, parse_constant, object_pairs_hook, **kw)\u001b[0m\n\u001b[1;32m    341\u001b[0m     s \u001b[39m=\u001b[39m s\u001b[39m.\u001b[39mdecode(detect_encoding(s), \u001b[39m'\u001b[39m\u001b[39msurrogatepass\u001b[39m\u001b[39m'\u001b[39m)\n\u001b[1;32m    343\u001b[0m \u001b[39mif\u001b[39;00m (\u001b[39mcls\u001b[39m \u001b[39mis\u001b[39;00m \u001b[39mNone\u001b[39;00m \u001b[39mand\u001b[39;00m object_hook \u001b[39mis\u001b[39;00m \u001b[39mNone\u001b[39;00m \u001b[39mand\u001b[39;00m\n\u001b[1;32m    344\u001b[0m         parse_int \u001b[39mis\u001b[39;00m \u001b[39mNone\u001b[39;00m \u001b[39mand\u001b[39;00m parse_float \u001b[39mis\u001b[39;00m \u001b[39mNone\u001b[39;00m \u001b[39mand\u001b[39;00m\n\u001b[1;32m    345\u001b[0m         parse_constant \u001b[39mis\u001b[39;00m \u001b[39mNone\u001b[39;00m \u001b[39mand\u001b[39;00m object_pairs_hook \u001b[39mis\u001b[39;00m \u001b[39mNone\u001b[39;00m \u001b[39mand\u001b[39;00m \u001b[39mnot\u001b[39;00m kw):\n\u001b[0;32m--> 346\u001b[0m     \u001b[39mreturn\u001b[39;00m _default_decoder\u001b[39m.\u001b[39;49mdecode(s)\n\u001b[1;32m    347\u001b[0m \u001b[39mif\u001b[39;00m \u001b[39mcls\u001b[39m \u001b[39mis\u001b[39;00m \u001b[39mNone\u001b[39;00m:\n\u001b[1;32m    348\u001b[0m     \u001b[39mcls\u001b[39m \u001b[39m=\u001b[39m JSONDecoder\n",
      "File \u001b[0;32m/Library/Frameworks/Python.framework/Versions/3.10/lib/python3.10/json/decoder.py:337\u001b[0m, in \u001b[0;36mJSONDecoder.decode\u001b[0;34m(self, s, _w)\u001b[0m\n\u001b[1;32m    332\u001b[0m \u001b[39mdef\u001b[39;00m \u001b[39mdecode\u001b[39m(\u001b[39mself\u001b[39m, s, _w\u001b[39m=\u001b[39mWHITESPACE\u001b[39m.\u001b[39mmatch):\n\u001b[1;32m    333\u001b[0m \u001b[39m    \u001b[39m\u001b[39m\"\"\"Return the Python representation of ``s`` (a ``str`` instance\u001b[39;00m\n\u001b[1;32m    334\u001b[0m \u001b[39m    containing a JSON document).\u001b[39;00m\n\u001b[1;32m    335\u001b[0m \n\u001b[1;32m    336\u001b[0m \u001b[39m    \"\"\"\u001b[39;00m\n\u001b[0;32m--> 337\u001b[0m     obj, end \u001b[39m=\u001b[39m \u001b[39mself\u001b[39;49m\u001b[39m.\u001b[39;49mraw_decode(s, idx\u001b[39m=\u001b[39;49m_w(s, \u001b[39m0\u001b[39;49m)\u001b[39m.\u001b[39;49mend())\n\u001b[1;32m    338\u001b[0m     end \u001b[39m=\u001b[39m _w(s, end)\u001b[39m.\u001b[39mend()\n\u001b[1;32m    339\u001b[0m     \u001b[39mif\u001b[39;00m end \u001b[39m!=\u001b[39m \u001b[39mlen\u001b[39m(s):\n",
      "File \u001b[0;32m/Library/Frameworks/Python.framework/Versions/3.10/lib/python3.10/json/decoder.py:353\u001b[0m, in \u001b[0;36mJSONDecoder.raw_decode\u001b[0;34m(self, s, idx)\u001b[0m\n\u001b[1;32m    344\u001b[0m \u001b[39m\u001b[39m\u001b[39m\"\"\"Decode a JSON document from ``s`` (a ``str`` beginning with\u001b[39;00m\n\u001b[1;32m    345\u001b[0m \u001b[39ma JSON document) and return a 2-tuple of the Python\u001b[39;00m\n\u001b[1;32m    346\u001b[0m \u001b[39mrepresentation and the index in ``s`` where the document ended.\u001b[39;00m\n\u001b[0;32m   (...)\u001b[0m\n\u001b[1;32m    350\u001b[0m \n\u001b[1;32m    351\u001b[0m \u001b[39m\"\"\"\u001b[39;00m\n\u001b[1;32m    352\u001b[0m \u001b[39mtry\u001b[39;00m:\n\u001b[0;32m--> 353\u001b[0m     obj, end \u001b[39m=\u001b[39m \u001b[39mself\u001b[39;49m\u001b[39m.\u001b[39;49mscan_once(s, idx)\n\u001b[1;32m    354\u001b[0m \u001b[39mexcept\u001b[39;00m \u001b[39mStopIteration\u001b[39;00m \u001b[39mas\u001b[39;00m err:\n\u001b[1;32m    355\u001b[0m     \u001b[39mraise\u001b[39;00m JSONDecodeError(\u001b[39m\"\u001b[39m\u001b[39mExpecting value\u001b[39m\u001b[39m\"\u001b[39m, s, err\u001b[39m.\u001b[39mvalue) \u001b[39mfrom\u001b[39;00m \u001b[39mNone\u001b[39;00m\n",
      "\u001b[0;31mJSONDecodeError\u001b[0m: Expecting property name enclosed in double quotes: line 2 column 1 (char 2)"
     ]
    }
   ],
   "source": [
    "# Liste pour stocker les lignes dupliquées\n",
    "rows_to_concat = []\n",
    "\n",
    "# Parcourez chaque ligne du DataFrame\n",
    "for _, row in df.iterrows():\n",
    "    # Récupérez les informations non liées à \"latestVideos\"\n",
    "    non_video_info = row[['channelId', 'channelTitle', 'description']]\n",
    "\n",
    "    # Parcourez chaque vidéo dans \"latestVideos\"\n",
    "    for video in row['latestVideos']:\n",
    "        # Créez une nouvelle ligne en combinant les informations non liées à \"latestVideos\" avec les informations de la vidéo\n",
    "        new_row = pd.Series({\n",
    "            'channel_id': non_video_info['channelId'],\n",
    "            'channel_title': non_video_info['channelTitle'],\n",
    "            'channel_Description': non_video_info['description'],\n",
    "            'video_id': video.get('videoId', None),\n",
    "            'video_title': video.get('title', None),\n",
    "            'video_description': video.get('description', None),\n",
    "            'video_publishedAt': video.get('publishedAt', None),\n",
    "            'video_transcript': video.get('transcript', None),\n",
    "        })\n",
    "        # Ajoutez la nouvelle ligne à la liste\n",
    "        rows_to_concat.append(new_row)\n",
    "\n",
    "# Créez un nouveau DataFrame en concaténant les lignes dupliquées\n",
    "new_df = pd.DataFrame(rows_to_concat)"
   ]
  },
  {
   "cell_type": "code",
   "execution_count": null,
   "metadata": {},
   "outputs": [],
   "source": [
    "new_df.head()"
   ]
  }
 ],
 "metadata": {
  "kernelspec": {
   "display_name": "Python 3",
   "language": "python",
   "name": "python3"
  },
  "language_info": {
   "codemirror_mode": {
    "name": "ipython",
    "version": 3
   },
   "file_extension": ".py",
   "mimetype": "text/x-python",
   "name": "python",
   "nbconvert_exporter": "python",
   "pygments_lexer": "ipython3",
   "version": "3.10.7"
  },
  "orig_nbformat": 4
 },
 "nbformat": 4,
 "nbformat_minor": 2
}
